{
 "cells": [
  {
   "cell_type": "code",
   "execution_count": 1,
   "id": "c39293fe-5cde-484a-98e8-1f44216a5e72",
   "metadata": {},
   "outputs": [],
   "source": [
    "#Functions are Reusable codes\n",
    "#Functions are of two types\n",
    "# 1. Built-in functions  | Pre-defined Functions -----------> str(),int(),len(),append(),upper(),lower() etc.\n",
    "# 2. Custom Functions | User-defined Functions"
   ]
  },
  {
   "cell_type": "code",
   "execution_count": 2,
   "id": "c6f8b1f3-fa77-4b0b-8208-23fd7756c26b",
   "metadata": {},
   "outputs": [],
   "source": [
    "# Syntax\n",
    "#\n",
    "# def functionName(parameters):\n",
    "#     logic"
   ]
  },
  {
   "cell_type": "code",
   "execution_count": 3,
   "id": "64608a60-0877-428b-bd59-c7de399118ca",
   "metadata": {},
   "outputs": [],
   "source": [
    "def greetUser(name):\n",
    "    print(\"Hello \",name)"
   ]
  },
  {
   "cell_type": "code",
   "execution_count": 5,
   "id": "17fe427a-81b1-4694-a70e-9b208efcf205",
   "metadata": {},
   "outputs": [
    {
     "data": {
      "text/plain": [
       "function"
      ]
     },
     "execution_count": 5,
     "metadata": {},
     "output_type": "execute_result"
    }
   ],
   "source": [
    "type(greetUser)"
   ]
  },
  {
   "cell_type": "code",
   "execution_count": 6,
   "id": "2022eadf-49ea-4467-81b3-30b39e12fd81",
   "metadata": {},
   "outputs": [
    {
     "name": "stdout",
     "output_type": "stream",
     "text": [
      "Hello  Prashant\n"
     ]
    }
   ],
   "source": [
    "greetUser(\"Prashant\")"
   ]
  },
  {
   "cell_type": "code",
   "execution_count": 7,
   "id": "34060672-7ef5-4d1e-827f-d2efcba5a44c",
   "metadata": {},
   "outputs": [
    {
     "data": {
      "text/plain": [
       "\u001b[0;31mSignature:\u001b[0m \u001b[0mlen\u001b[0m\u001b[0;34m(\u001b[0m\u001b[0mobj\u001b[0m\u001b[0;34m,\u001b[0m \u001b[0;34m/\u001b[0m\u001b[0;34m)\u001b[0m\u001b[0;34m\u001b[0m\u001b[0;34m\u001b[0m\u001b[0m\n",
       "\u001b[0;31mDocstring:\u001b[0m Return the number of items in a container.\n",
       "\u001b[0;31mType:\u001b[0m      builtin_function_or_method\n"
      ]
     },
     "metadata": {},
     "output_type": "display_data"
    }
   ],
   "source": [
    "#Function with a docstring\n",
    "# Help Documentation\n",
    "\n",
    "?len"
   ]
  },
  {
   "cell_type": "code",
   "execution_count": 8,
   "id": "ec873f27-d734-4407-bc3f-3b68d0396715",
   "metadata": {},
   "outputs": [],
   "source": [
    "def greetUser(name):\n",
    "    '''\n",
    "    Author: Prashant\n",
    "    This function is used to greet user with Hello\n",
    "    \n",
    "    Usage: greetUser(\"Alex\")\n",
    "    Returns: Hello Alex\n",
    "    \n",
    "    '''\n",
    "    print(\"Hello \",name)"
   ]
  },
  {
   "cell_type": "code",
   "execution_count": 9,
   "id": "e58b37e1-25c2-464f-b08c-01f8ac2caf21",
   "metadata": {},
   "outputs": [
    {
     "data": {
      "text/plain": [
       "\u001b[0;31mSignature:\u001b[0m \u001b[0mgreetUser\u001b[0m\u001b[0;34m(\u001b[0m\u001b[0mname\u001b[0m\u001b[0;34m)\u001b[0m\u001b[0;34m\u001b[0m\u001b[0;34m\u001b[0m\u001b[0m\n",
       "\u001b[0;31mDocstring:\u001b[0m\n",
       "Author: Prashant\n",
       "This function is used to greet user with Hello\n",
       "\n",
       "Usage: greetUser(\"Alex\")\n",
       "Returns: Hello Alex\n",
       "\u001b[0;31mFile:\u001b[0m      /tmp/ipykernel_157/4290601156.py\n",
       "\u001b[0;31mType:\u001b[0m      function\n"
      ]
     },
     "metadata": {},
     "output_type": "display_data"
    }
   ],
   "source": [
    "?greetUser"
   ]
  },
  {
   "cell_type": "code",
   "execution_count": 10,
   "id": "067a8316-20fc-437c-b9d0-1e8c8cd32f21",
   "metadata": {},
   "outputs": [
    {
     "name": "stdout",
     "output_type": "stream",
     "text": [
      "Help on function greetUser in module __main__:\n",
      "\n",
      "greetUser(name)\n",
      "    Author: Prashant\n",
      "    This function is used to greet user with Hello\n",
      "    \n",
      "    Usage: greetUser(\"Alex\")\n",
      "    Returns: Hello Alex\n",
      "\n"
     ]
    }
   ],
   "source": [
    "help(greetUser)"
   ]
  },
  {
   "cell_type": "code",
   "execution_count": 11,
   "id": "9a555f45-d257-4023-821d-8df997e588cc",
   "metadata": {},
   "outputs": [],
   "source": [
    "#Functions with parameters\n",
    "\n",
    "def add(num1,num2):\n",
    "    result = num1 + num2\n",
    "    return result"
   ]
  },
  {
   "cell_type": "code",
   "execution_count": 12,
   "id": "9f67f974-c672-4861-8342-7ef03a092c1a",
   "metadata": {},
   "outputs": [
    {
     "data": {
      "text/plain": [
       "5"
      ]
     },
     "execution_count": 12,
     "metadata": {},
     "output_type": "execute_result"
    }
   ],
   "source": [
    "add(3,2)"
   ]
  },
  {
   "cell_type": "code",
   "execution_count": 13,
   "id": "aced9b2a-2ab9-463d-b175-f997edb6a15c",
   "metadata": {},
   "outputs": [],
   "source": [
    "res = add(3,2)"
   ]
  },
  {
   "cell_type": "code",
   "execution_count": 14,
   "id": "2e0f9e14-badf-493b-a87c-bd5838227628",
   "metadata": {},
   "outputs": [
    {
     "data": {
      "text/plain": [
       "5"
      ]
     },
     "execution_count": 14,
     "metadata": {},
     "output_type": "execute_result"
    }
   ],
   "source": [
    "res"
   ]
  },
  {
   "cell_type": "code",
   "execution_count": 15,
   "id": "659db1b4-ed73-4608-bae8-1b1ce618ad36",
   "metadata": {},
   "outputs": [],
   "source": [
    "#Functions with default parameters\n",
    "\n",
    "def add1(num1=0,num2=0):\n",
    "    result = num1 + num2\n",
    "    return result"
   ]
  },
  {
   "cell_type": "code",
   "execution_count": 16,
   "id": "586cf1be-27d7-403b-9edb-e8d313160fa1",
   "metadata": {},
   "outputs": [
    {
     "ename": "TypeError",
     "evalue": "add() missing 1 required positional argument: 'num2'",
     "output_type": "error",
     "traceback": [
      "\u001b[0;31m---------------------------------------------------------------------------\u001b[0m",
      "\u001b[0;31mTypeError\u001b[0m                                 Traceback (most recent call last)",
      "\u001b[0;32m/tmp/ipykernel_157/2172010150.py\u001b[0m in \u001b[0;36m<cell line: 1>\u001b[0;34m()\u001b[0m\n\u001b[0;32m----> 1\u001b[0;31m \u001b[0madd\u001b[0m\u001b[0;34m(\u001b[0m\u001b[0;36m3\u001b[0m\u001b[0;34m)\u001b[0m\u001b[0;34m\u001b[0m\u001b[0;34m\u001b[0m\u001b[0m\n\u001b[0m",
      "\u001b[0;31mTypeError\u001b[0m: add() missing 1 required positional argument: 'num2'"
     ]
    }
   ],
   "source": [
    "add(3)"
   ]
  },
  {
   "cell_type": "code",
   "execution_count": 17,
   "id": "94a4bf71-85de-48e8-9626-cbd314b2a2bc",
   "metadata": {},
   "outputs": [
    {
     "data": {
      "text/plain": [
       "3"
      ]
     },
     "execution_count": 17,
     "metadata": {},
     "output_type": "execute_result"
    }
   ],
   "source": [
    "add1(3)"
   ]
  },
  {
   "cell_type": "code",
   "execution_count": 18,
   "id": "d894ecd0-394a-4dcc-922b-3ccdc4fe7c09",
   "metadata": {},
   "outputs": [],
   "source": [
    "#Write a function that can accept number and return whether the given number is Even or Odd\n",
    "\n",
    "def oddEven(num):\n",
    "  if num % 2 == 0:\n",
    "    return \"even\"\n",
    "  return \"odd\""
   ]
  },
  {
   "cell_type": "code",
   "execution_count": 19,
   "id": "a464ff25-b802-44e5-b941-fc04afb53efb",
   "metadata": {},
   "outputs": [
    {
     "data": {
      "text/plain": [
       "'even'"
      ]
     },
     "execution_count": 19,
     "metadata": {},
     "output_type": "execute_result"
    }
   ],
   "source": [
    "oddEven(2)"
   ]
  },
  {
   "cell_type": "code",
   "execution_count": 20,
   "id": "d891a45e-de9b-42f3-9e73-cb6eb067f0af",
   "metadata": {},
   "outputs": [],
   "source": [
    "# Map and Filter Functions ---- Collection Objects\n",
    "#\n",
    "# Map function allows you to map a function into an iterable/collection object\n"
   ]
  },
  {
   "cell_type": "code",
   "execution_count": 21,
   "id": "cf9b9a96-1b28-41ec-9839-d0c960fbae95",
   "metadata": {},
   "outputs": [],
   "source": [
    "def square(num):\n",
    "    return num**2"
   ]
  },
  {
   "cell_type": "code",
   "execution_count": 22,
   "id": "665fecb8-f332-4484-b365-ed5dfefdc9c5",
   "metadata": {},
   "outputs": [
    {
     "data": {
      "text/plain": [
       "[1, 4, 9, 16, 25]"
      ]
     },
     "execution_count": 22,
     "metadata": {},
     "output_type": "execute_result"
    }
   ],
   "source": [
    "list1=[1,2,3,4,5]\n",
    "\n",
    "#Goal: Square each element in my collection object\n",
    "result=[]\n",
    "for num in list1:\n",
    "    result.append(num ** 2)\n",
    "\n",
    "result"
   ]
  },
  {
   "cell_type": "code",
   "execution_count": 24,
   "id": "04d6b1c4-acde-4abb-8398-5cce90b61840",
   "metadata": {},
   "outputs": [
    {
     "data": {
      "text/plain": [
       "[1, 4, 9, 16, 25]"
      ]
     },
     "execution_count": 24,
     "metadata": {},
     "output_type": "execute_result"
    }
   ],
   "source": [
    "#Syntax: map(functionLogic , collectionObj)\n",
    "\n",
    "list(map(square,list1))"
   ]
  },
  {
   "cell_type": "code",
   "execution_count": 25,
   "id": "81f0b0af-9065-491f-8ab2-0fe299e4a9fd",
   "metadata": {},
   "outputs": [],
   "source": [
    "# Filter \n",
    "\n",
    "#Goal: Extract even numbers from collection \n",
    "\n",
    "def even(num):\n",
    "    return num % 2 == 0"
   ]
  },
  {
   "cell_type": "code",
   "execution_count": 27,
   "id": "d72de842-c54b-4388-8de9-ce8a7b2196f4",
   "metadata": {},
   "outputs": [
    {
     "data": {
      "text/plain": [
       "[2, 4]"
      ]
     },
     "execution_count": 27,
     "metadata": {},
     "output_type": "execute_result"
    }
   ],
   "source": [
    "list(filter(even,list1))"
   ]
  },
  {
   "cell_type": "code",
   "execution_count": 30,
   "id": "b47f61ec-b089-4798-bd14-2fc76f1b155e",
   "metadata": {},
   "outputs": [],
   "source": [
    "#Lambda Expression | Lambda Statements\n",
    "#\n",
    "# Lambda expression allows us to create ANONYMOUS FUNCTIONS"
   ]
  },
  {
   "cell_type": "code",
   "execution_count": 31,
   "id": "e36d56c8-61be-4e71-85d0-2e5d49ed70db",
   "metadata": {},
   "outputs": [],
   "source": [
    "def square(num):\n",
    "    return num**2"
   ]
  },
  {
   "cell_type": "code",
   "execution_count": 32,
   "id": "50114f57-5f9a-4865-93ff-8934f66ce18b",
   "metadata": {},
   "outputs": [],
   "source": [
    "mySquareLambda = lambda num : num**2"
   ]
  },
  {
   "cell_type": "code",
   "execution_count": 33,
   "id": "e642cbdd-376b-48fd-9c86-ada5df121ba7",
   "metadata": {},
   "outputs": [
    {
     "data": {
      "text/plain": [
       "function"
      ]
     },
     "execution_count": 33,
     "metadata": {},
     "output_type": "execute_result"
    }
   ],
   "source": [
    "type(mySquareLambda)"
   ]
  },
  {
   "cell_type": "code",
   "execution_count": 34,
   "id": "f51eb734-2d4d-442a-a9bb-cb0784976c10",
   "metadata": {},
   "outputs": [
    {
     "data": {
      "text/plain": [
       "9"
      ]
     },
     "execution_count": 34,
     "metadata": {},
     "output_type": "execute_result"
    }
   ],
   "source": [
    "mySquareLambda(3)"
   ]
  },
  {
   "cell_type": "code",
   "execution_count": 35,
   "id": "53b96f37-3d88-4262-ad36-86e6e3434b5f",
   "metadata": {},
   "outputs": [
    {
     "data": {
      "text/plain": [
       "[1, 4, 9, 16, 25]"
      ]
     },
     "execution_count": 35,
     "metadata": {},
     "output_type": "execute_result"
    }
   ],
   "source": [
    "list(map(lambda num: num*num , list1))"
   ]
  },
  {
   "cell_type": "code",
   "execution_count": 36,
   "id": "7b669dc7-5828-40e4-a9b7-870fb9c50339",
   "metadata": {},
   "outputs": [],
   "source": [
    "add3Nos = lambda num1,num2,num3 : num1 + num2 + num3"
   ]
  },
  {
   "cell_type": "code",
   "execution_count": 37,
   "id": "0b408f31-c2f5-4c50-9f77-e6f12d70a7c3",
   "metadata": {},
   "outputs": [
    {
     "data": {
      "text/plain": [
       "9"
      ]
     },
     "execution_count": 37,
     "metadata": {},
     "output_type": "execute_result"
    }
   ],
   "source": [
    "add3Nos(2,3,4)\n"
   ]
  },
  {
   "cell_type": "code",
   "execution_count": null,
   "id": "c226bcd1-f150-481b-80b6-f3165674e270",
   "metadata": {},
   "outputs": [],
   "source": []
  }
 ],
 "metadata": {
  "kernelspec": {
   "display_name": "Python 3 [3.10]",
   "language": "python",
   "name": "python3"
  },
  "language_info": {
   "codemirror_mode": {
    "name": "ipython",
    "version": 3
   },
   "file_extension": ".py",
   "mimetype": "text/x-python",
   "name": "python",
   "nbconvert_exporter": "python",
   "pygments_lexer": "ipython3",
   "version": "3.10.2"
  }
 },
 "nbformat": 4,
 "nbformat_minor": 5
}
