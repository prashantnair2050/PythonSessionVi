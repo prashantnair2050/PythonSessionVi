{
 "cells": [
  {
   "cell_type": "code",
   "execution_count": 1,
   "id": "f8e02419-2223-4c84-9d85-9445d006636f",
   "metadata": {},
   "outputs": [],
   "source": [
    "# Deal with CSV files\n",
    "# Standard Python Function for dealing with CSV ----------- csv"
   ]
  },
  {
   "cell_type": "code",
   "execution_count": 2,
   "id": "84554160-5180-46ee-b86b-25cbf597a042",
   "metadata": {},
   "outputs": [],
   "source": [
    "# Writing a csv file\n",
    "\n",
    "import csv\n",
    "\n",
    "rows = [\n",
    "    ['Name','Salary','Location'],\n",
    "    ['Prashant',90000,'Mumbai'],\n",
    "    ['Arun',9999,'Chennai']\n",
    "]\n",
    "\n",
    "with open('demo.csv', mode='w', newline='') as f:\n",
    "    writer = csv.writer(f)\n",
    "    writer.writerows(rows)"
   ]
  },
  {
   "cell_type": "code",
   "execution_count": 3,
   "id": "6803352d-37e8-4e3c-845a-87e8121746cc",
   "metadata": {},
   "outputs": [
    {
     "name": "stdout",
     "output_type": "stream",
     "text": [
      "['Name', 'Salary', 'Location']\n",
      "['Prashant', '90000', 'Mumbai']\n",
      "['Arun', '9999', 'Chennai']\n"
     ]
    }
   ],
   "source": [
    "#Reading a csv file\n",
    "\n",
    "#Basic Method\n",
    "\n",
    "import csv\n",
    "\n",
    "with open('demo.csv',mode='r',newline='') as f:\n",
    "    reader= csv.reader(f)\n",
    "    for row in reader:\n",
    "        print(row)"
   ]
  },
  {
   "cell_type": "code",
   "execution_count": 4,
   "id": "5acf216d-e0a6-426e-b02a-9da41c4a0f5d",
   "metadata": {},
   "outputs": [
    {
     "name": "stdout",
     "output_type": "stream",
     "text": [
      "Header is  ['Name', 'Salary', 'Location']\n",
      "Records are \n",
      "\n",
      "['Prashant', '90000', 'Mumbai']\n",
      "['Arun', '9999', 'Chennai']\n"
     ]
    }
   ],
   "source": [
    "# Logically seperate header and data\n",
    "# Assuming header is the first record of my file\n",
    "\n",
    "# next() ----- cursor\n",
    "\n",
    "import csv\n",
    "\n",
    "with open('demo.csv',mode='r',newline='') as f:\n",
    "    reader= csv.reader(f)\n",
    "    header = next(reader)\n",
    "    print(\"Header is \",header)\n",
    "    print(\"Records are \\n\")\n",
    "    for row in reader:\n",
    "        print(row)"
   ]
  },
  {
   "cell_type": "code",
   "execution_count": null,
   "id": "fe99ced6-8170-462d-924d-2a34633fb849",
   "metadata": {},
   "outputs": [],
   "source": []
  }
 ],
 "metadata": {
  "kernelspec": {
   "display_name": "Python 3 [3.10]",
   "language": "python",
   "name": "python3"
  },
  "language_info": {
   "codemirror_mode": {
    "name": "ipython",
    "version": 3
   },
   "file_extension": ".py",
   "mimetype": "text/x-python",
   "name": "python",
   "nbconvert_exporter": "python",
   "pygments_lexer": "ipython3",
   "version": "3.10.2"
  }
 },
 "nbformat": 4,
 "nbformat_minor": 5
}
