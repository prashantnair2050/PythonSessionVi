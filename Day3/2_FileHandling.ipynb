{
 "cells": [
  {
   "cell_type": "code",
   "execution_count": 1,
   "id": "f527f2ae-f4a6-4a4a-880f-c3af3216ca7d",
   "metadata": {},
   "outputs": [],
   "source": [
    "# File Handling\n",
    "# 1. Read a file\n",
    "# 2. Write data into the file\n",
    "# 3. Using with"
   ]
  },
  {
   "cell_type": "code",
   "execution_count": 2,
   "id": "eafc46be-1de6-44d9-9545-da66d75862c2",
   "metadata": {},
   "outputs": [],
   "source": [
    "#Built-in library --------------------- open()\n",
    "# Syntax:\n",
    "#\n",
    "# open(fileLocation, mode)\n",
    "#\n",
    "# where mode supported are\n",
    "#  r ---------- read\n",
    "# w ----------- write\n",
    "# a ----------- append\n",
    "# r+ ---------- reading and writing"
   ]
  },
  {
   "cell_type": "code",
   "execution_count": 3,
   "id": "3ee8ca49-2ef9-4d0a-be24-cce09a4f6ba8",
   "metadata": {},
   "outputs": [],
   "source": [
    "#Opening the file\n",
    "\n",
    "f = open('sampleDataset.txt','r')\n",
    "\n",
    "# Close the file\n",
    "\n",
    "f.close()"
   ]
  },
  {
   "cell_type": "code",
   "execution_count": null,
   "id": "0a30dab0-fa00-4ebc-962e-54d1b96a388d",
   "metadata": {},
   "outputs": [],
   "source": [
    "# using with block, you can access the file for any kind of operations.\n",
    "# once the operation is done, the file gets automatically closed"
   ]
  },
  {
   "cell_type": "code",
   "execution_count": 4,
   "id": "3eb0783a-3fb3-4e50-8896-758a31b85c6d",
   "metadata": {},
   "outputs": [
    {
     "name": "stdout",
     "output_type": "stream",
     "text": [
      "This is a sample file\n",
      "Welcome to Python \n",
      "We are learning file handling\n"
     ]
    }
   ],
   "source": [
    "with open('sampleDataset.txt','r') as f:\n",
    "    content = f.read()\n",
    "    print(content)"
   ]
  },
  {
   "cell_type": "code",
   "execution_count": 5,
   "id": "ac369635-f915-4043-8b71-785c68d28450",
   "metadata": {},
   "outputs": [
    {
     "name": "stdout",
     "output_type": "stream",
     "text": [
      "This is a sample file\n",
      "\n",
      "Welcome to Python \n",
      "\n",
      "We are learning file handling\n"
     ]
    }
   ],
   "source": [
    "#Read the data line by line\n",
    "with open('sampleDataset.txt','r') as f:\n",
    "    for line in f:\n",
    "        print(line)"
   ]
  },
  {
   "cell_type": "code",
   "execution_count": null,
   "id": "18eceb53-2a69-4586-87f4-994ae5766bca",
   "metadata": {},
   "outputs": [],
   "source": []
  }
 ],
 "metadata": {
  "kernelspec": {
   "display_name": "Python 3 [3.10]",
   "language": "python",
   "name": "python3"
  },
  "language_info": {
   "codemirror_mode": {
    "name": "ipython",
    "version": 3
   },
   "file_extension": ".py",
   "mimetype": "text/x-python",
   "name": "python",
   "nbconvert_exporter": "python",
   "pygments_lexer": "ipython3",
   "version": "3.10.2"
  }
 },
 "nbformat": 4,
 "nbformat_minor": 5
}
