{
 "cells": [
  {
   "cell_type": "code",
   "execution_count": 1,
   "id": "b003f6b6-725b-496a-889a-bebaace0216f",
   "metadata": {},
   "outputs": [],
   "source": [
    "#Working with Zip Files\n",
    "\n",
    "import zipfile"
   ]
  },
  {
   "cell_type": "code",
   "execution_count": 2,
   "id": "c1acb965-8871-4890-9f74-f6b6a5ca3633",
   "metadata": {},
   "outputs": [],
   "source": [
    "#Writing the zip file\n",
    "\n",
    "with zipfile.ZipFile('test.zip','w') as z:\n",
    "    z.write('output.csv')\n",
    "    z.write('output1.csv')"
   ]
  },
  {
   "cell_type": "code",
   "execution_count": 3,
   "id": "373fb2e4-bc49-431c-a4fd-a4b671b6be64",
   "metadata": {},
   "outputs": [
    {
     "name": "stdout",
     "output_type": "stream",
     "text": [
      "File Name                                             Modified             Size\n",
      "output.csv                                     2024-04-24 10:48:22           45\n",
      "output1.csv                                    2024-04-24 10:48:40           23\n"
     ]
    }
   ],
   "source": [
    "#Read the zip file\n",
    "\n",
    "with zipfile.ZipFile('test.zip','r') as z:\n",
    "    z.printdir()"
   ]
  },
  {
   "cell_type": "code",
   "execution_count": null,
   "id": "4cf56de1-4ab6-411b-8402-1701605b7c8d",
   "metadata": {},
   "outputs": [],
   "source": [
    "#Extract files in present working directory\n",
    "\n",
    "with zipfile.ZipFile('test.zip','r') as z:\n",
    "    z.extractall()"
   ]
  },
  {
   "cell_type": "code",
   "execution_count": 4,
   "id": "98ce95d3-6ed1-4ba4-a1de-f7fd5b22c0b6",
   "metadata": {},
   "outputs": [],
   "source": [
    "#Extract files in a specified folder/location\n",
    "with zipfile.ZipFile('test.zip','r') as z:\n",
    "    z.extractall('decompressedData')\n"
   ]
  },
  {
   "cell_type": "code",
   "execution_count": 5,
   "id": "a4892082-8532-45bd-977a-39a35566dff4",
   "metadata": {},
   "outputs": [],
   "source": [
    "#Extract specific files\n",
    "\n",
    "with zipfile.ZipFile('test.zip','r') as z:\n",
    "    z.extract('output.csv','testfolder')"
   ]
  },
  {
   "cell_type": "markdown",
   "id": "319777ad-5bfe-4956-8477-22ba6e860f66",
   "metadata": {},
   "source": [
    "# Assignment Questions\n",
    "\n",
    "\n",
    "File Handling\n",
    "\n",
    "1. Basic File Operations: Write a Python script to create a new text file and write the string \"Hello, Python!\" into it. Then, read the content of the file and print it to the console.\n",
    "\n",
    "2. File Reading: Given a text file data.txt, write a Python program to read and print the first 5 lines of the file.\n",
    "\n",
    "3. File Writing: How would you append the text \"Welcome to Python programming.\" to an existing file named append.txt without overwriting its current content?\n",
    "\n",
    "4. File Seeking: Write a Python script to open a file named seek.txt, write \"Python is fun!\" at the beginning of the file, and then read the entire file content.\n",
    "\n",
    "\n",
    "CSV Files\n",
    "1. Reading CSV: Write a Python program to read a CSV file named auto-data.csv using csv.reader and print each row.\n",
    "2. Writing CSV: Using csv.writer, create a CSV file named output.csv and write the rows [[\"Name\", \"Age\"], [\"Alice\", 24], [\"Bob\", 22]] to it.\n",
    "3. DictReader Usage: Explain how csv.DictReader differs from csv.reader. Write a Python script that reads students.csv using csv.DictReader and prints each row as a dictionary.\n",
    "4. DictWriter with Different Delimiter: Demonstrate how to use csv.DictWriter to write a list of dictionaries to a file named custom_delimiter.csv with a semicolon (;) as the delimiter.\n",
    "5. Handling Headers: Write a Python program that reads a CSV file and prints just the headers.\n",
    "\n",
    "ZIP Files\n",
    "1. Creating ZIP Archives: Write a Python script to create a ZIP archive named archive.zip and add two files to it, file1.txt and file2.txt.\n",
    "2. Extracting ZIP Archives: How would you extract a specific file named document.txt from a ZIP archive documents.zip into a directory named extracted_docs?\n",
    "3. Listing ZIP Contents: Write a Python program that opens a ZIP file named sample.zip and prints the names of all the files and directories it contains."
   ]
  },
  {
   "cell_type": "code",
   "execution_count": null,
   "id": "85ac3063-41ff-4bd2-b1a5-0a23551edbc5",
   "metadata": {},
   "outputs": [],
   "source": []
  }
 ],
 "metadata": {
  "kernelspec": {
   "display_name": "Python 3 [3.10]",
   "language": "python",
   "name": "python3"
  },
  "language_info": {
   "codemirror_mode": {
    "name": "ipython",
    "version": 3
   },
   "file_extension": ".py",
   "mimetype": "text/x-python",
   "name": "python",
   "nbconvert_exporter": "python",
   "pygments_lexer": "ipython3",
   "version": "3.10.2"
  }
 },
 "nbformat": 4,
 "nbformat_minor": 5
}
