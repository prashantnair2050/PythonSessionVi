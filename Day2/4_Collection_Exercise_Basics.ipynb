{
  "cells": [
    {
      "cell_type": "code",
      "execution_count": null,
      "metadata": {
        "id": "GWYt9r_5qTbT"
      },
      "outputs": [],
      "source": [
        "#Lists\n",
        "#Question 1: Create a list named fruits containing \"apple\", \"banana\", and \"cherry\". Print the list.\n",
        "\n"
      ]
    },
    {
      "cell_type": "code",
      "execution_count": null,
      "metadata": {
        "id": "GZgqmzeQqTbU"
      },
      "outputs": [],
      "source": []
    },
    {
      "cell_type": "code",
      "execution_count": null,
      "metadata": {
        "id": "MPiWVmTTqTbU"
      },
      "outputs": [],
      "source": [
        "#Question 2: Add \"orange\" to the fruits list and print the updated list.\n",
        "\n"
      ]
    },
    {
      "cell_type": "code",
      "execution_count": null,
      "metadata": {
        "id": "TbCFhoj8qTbU"
      },
      "outputs": [],
      "source": []
    },
    {
      "cell_type": "code",
      "execution_count": null,
      "metadata": {
        "id": "F6_yCNhmqTbU"
      },
      "outputs": [],
      "source": [
        "#Question 3: Reverse the fruits list and print the result.\n",
        "\n"
      ]
    },
    {
      "cell_type": "code",
      "execution_count": null,
      "metadata": {
        "id": "pHvdKlNjqTbU"
      },
      "outputs": [],
      "source": []
    },
    {
      "cell_type": "code",
      "execution_count": null,
      "metadata": {
        "id": "WGvfNm3QqTbU"
      },
      "outputs": [],
      "source": [
        "#Question 4: Sort the following list numbers = [3, 1, 4, 1, 5, 9, 2, 6] in ascending order and print the result.\n",
        "\n"
      ]
    },
    {
      "cell_type": "code",
      "execution_count": null,
      "metadata": {
        "id": "sPv89Z53qTbU"
      },
      "outputs": [],
      "source": [
        "#Question 5: Remove the last element from the fruits list and print the modified list.\n",
        "\n"
      ]
    },
    {
      "cell_type": "code",
      "execution_count": null,
      "metadata": {
        "id": "O4CProDuqTbV"
      },
      "outputs": [],
      "source": []
    },
    {
      "cell_type": "code",
      "execution_count": null,
      "metadata": {
        "id": "k2eaEcLIqTbV"
      },
      "outputs": [],
      "source": [
        "#Tuples\n",
        "#Question 6: Create a tuple coordinates with elements (4, 5, 6) and print it.\n",
        "\n"
      ]
    },
    {
      "cell_type": "code",
      "execution_count": null,
      "metadata": {
        "id": "r6KT2HZWqTbV"
      },
      "outputs": [],
      "source": []
    },
    {
      "cell_type": "code",
      "execution_count": null,
      "metadata": {
        "id": "lxG7jOXiqTbV"
      },
      "outputs": [],
      "source": [
        "#Question 7: Given the tuple tup = (1, 2, 3, 4, 5), slice it to only include the first three elements and print the result.\n",
        "\n"
      ]
    },
    {
      "cell_type": "code",
      "execution_count": null,
      "metadata": {
        "id": "MptCsqItqTbV"
      },
      "outputs": [],
      "source": []
    },
    {
      "cell_type": "code",
      "execution_count": null,
      "metadata": {
        "id": "2C2I_HLqqTbW"
      },
      "outputs": [],
      "source": [
        "#Question 8: Try to change the first element of the coordinates tuple to 10. What happens?\n",
        "\n"
      ]
    },
    {
      "cell_type": "code",
      "execution_count": null,
      "metadata": {
        "id": "gZNEDuFlqTbW"
      },
      "outputs": [],
      "source": []
    },
    {
      "cell_type": "code",
      "execution_count": null,
      "metadata": {
        "id": "XbgDiOSyqTbX"
      },
      "outputs": [],
      "source": [
        "#Question 9: Count how many times 1 appears in the tuple tup = (1, 2, 3, 1, 1, 4, 1) and print the result.\n",
        "\n"
      ]
    },
    {
      "cell_type": "code",
      "execution_count": null,
      "metadata": {
        "id": "JU9An6UQqTbZ"
      },
      "outputs": [],
      "source": []
    },
    {
      "cell_type": "code",
      "execution_count": null,
      "metadata": {
        "id": "DOycfS3eqTbZ"
      },
      "outputs": [],
      "source": [
        "#Question 10: Convert the tuple tup = (1, 2, 3) into a list, add the element 4 to the list, then convert it back to a tuple and print it.\n",
        "\n"
      ]
    },
    {
      "cell_type": "code",
      "execution_count": null,
      "metadata": {
        "id": "8e28FEEZqTba"
      },
      "outputs": [],
      "source": [
        "#Sets\n",
        "#Question 11: Create a set s1 with elements 1, 2, 3, and another set s2 with elements 3, 4, 5. Print the union of these two sets.\n",
        "\n"
      ]
    },
    {
      "cell_type": "code",
      "execution_count": null,
      "metadata": {
        "id": "0Olx6AbrqTba"
      },
      "outputs": [],
      "source": []
    },
    {
      "cell_type": "code",
      "execution_count": null,
      "metadata": {
        "id": "b0P0RUudqTba"
      },
      "outputs": [],
      "source": [
        "#Question 12: Find the intersection of s1 and s2 and print the result.\n",
        "\n"
      ]
    },
    {
      "cell_type": "code",
      "execution_count": null,
      "metadata": {
        "id": "LnxkZPj-qTbb"
      },
      "outputs": [],
      "source": []
    },
    {
      "cell_type": "code",
      "execution_count": null,
      "metadata": {
        "id": "L2q62kL0qTbb"
      },
      "outputs": [],
      "source": [
        "#Question 13: Add element 6 to s1 and print the updated set.\n",
        "\n"
      ]
    },
    {
      "cell_type": "code",
      "execution_count": null,
      "metadata": {
        "id": "yQOH9xsWqTbb"
      },
      "outputs": [],
      "source": []
    },
    {
      "cell_type": "code",
      "execution_count": null,
      "metadata": {
        "id": "RuIW9PTFqTbb"
      },
      "outputs": [],
      "source": [
        "#Question 14: Try to add duplicate element 3 to s1. What happens? Print s1 to verify.\n",
        "\n"
      ]
    },
    {
      "cell_type": "code",
      "execution_count": null,
      "metadata": {
        "id": "5VaGRaWtqTbb"
      },
      "outputs": [],
      "source": []
    },
    {
      "cell_type": "code",
      "execution_count": null,
      "metadata": {
        "id": "Qz9-oHpFqTbb"
      },
      "outputs": [],
      "source": [
        "#Question 15: Remove element 2 from s1 and print the updated set. Handle the case where the element might not exist.\n",
        "\n"
      ]
    },
    {
      "cell_type": "code",
      "execution_count": null,
      "metadata": {
        "id": "PxIdeqanqTbb"
      },
      "outputs": [],
      "source": []
    },
    {
      "cell_type": "code",
      "execution_count": null,
      "metadata": {
        "id": "zlDUU2FkqTbb"
      },
      "outputs": [],
      "source": [
        "#Dictionaries\n",
        "#Question 16: Create a dictionary person with keys \"name\", \"age\", and \"city\" and corresponding values \"Alice\", 30, and \"New York\". Print the dictionary.\n",
        "\n"
      ]
    },
    {
      "cell_type": "code",
      "execution_count": null,
      "metadata": {
        "id": "8_M_koJbqTbb"
      },
      "outputs": [],
      "source": []
    },
    {
      "cell_type": "code",
      "execution_count": null,
      "metadata": {
        "id": "3uoinBR4qTbb"
      },
      "outputs": [],
      "source": [
        "#Question 17: Add a new key-value pair \"gender\" with value \"female\" to the person dictionary and print the updated dictionary.\n",
        "\n"
      ]
    },
    {
      "cell_type": "code",
      "execution_count": null,
      "metadata": {
        "id": "oOri7DaUqTbc"
      },
      "outputs": [],
      "source": []
    },
    {
      "cell_type": "code",
      "execution_count": null,
      "metadata": {
        "id": "minFFp3nqTbc"
      },
      "outputs": [],
      "source": [
        "#Question 18: Update the \"age\" of the person to 31 and print the updated dictionary.\n",
        "\n"
      ]
    },
    {
      "cell_type": "code",
      "execution_count": null,
      "metadata": {
        "id": "HthF8N2IqTbc"
      },
      "outputs": [],
      "source": []
    },
    {
      "cell_type": "code",
      "execution_count": null,
      "metadata": {
        "id": "_uYM7IGaqTbc"
      },
      "outputs": [],
      "source": [
        "#Question 19: Remove the \"city\" key from the person dictionary using the pop method and print the updated dictionary.\n",
        "\n"
      ]
    },
    {
      "cell_type": "code",
      "execution_count": null,
      "metadata": {
        "id": "h8Cqn8iOqTbc"
      },
      "outputs": [],
      "source": []
    },
    {
      "cell_type": "code",
      "execution_count": null,
      "metadata": {
        "id": "9IwhM5IoqTbc"
      },
      "outputs": [],
      "source": [
        "#Question 20: Extract \"Mumbai\" from below collection\n",
        "\n",
        "list1 = {\"data\":[1,2,\"prashant\",\"python\",[10,20,30,40,50],{\"Maharashtra\":[\"Mumbai\",\"Chennai\",\"Delhi\",\"Kolkata\"]}]}"
      ]
    },
    {
      "cell_type": "code",
      "execution_count": null,
      "metadata": {
        "id": "p4AsR2EQqTbd"
      },
      "outputs": [],
      "source": []
    }
  ],
  "metadata": {
    "kernelspec": {
      "display_name": "Python 3",
      "language": "python",
      "name": "python3"
    },
    "language_info": {
      "codemirror_mode": {
        "name": "ipython",
        "version": 3
      },
      "file_extension": ".py",
      "mimetype": "text/x-python",
      "name": "python",
      "nbconvert_exporter": "python",
      "pygments_lexer": "ipython3",
      "version": "3.7.6"
    },
    "colab": {
      "provenance": []
    }
  },
  "nbformat": 4,
  "nbformat_minor": 0
}