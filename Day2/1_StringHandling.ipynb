{
 "cells": [
  {
   "cell_type": "code",
   "execution_count": 1,
   "id": "8cdea93d-46ea-4b52-b4a0-b8a0a9ae05f6",
   "metadata": {},
   "outputs": [],
   "source": [
    "# Strings are one of the commonly used datatype ideally used to store text data"
   ]
  },
  {
   "cell_type": "code",
   "execution_count": 2,
   "id": "9a403e83-d178-4fb9-938d-2ff04cf3fdc7",
   "metadata": {},
   "outputs": [
    {
     "name": "stdout",
     "output_type": "stream",
     "text": [
      "Hello World\n",
      "Hello world\n",
      " Welcome to Python\n",
      "You are learning string handling\n"
     ]
    }
   ],
   "source": [
    "# Creating strings\n",
    "\n",
    "# Single Quote\n",
    "\n",
    "string1 = 'Hello World'\n",
    "print(string1)\n",
    "\n",
    "#Double Quote\n",
    "string2 = \"Hello world\"\n",
    "print(string2)\n",
    "\n",
    "#Triple Quote ---- Multi line\n",
    "string3 = \"\"\" Welcome to Python\n",
    "You are learning string handling\"\"\"\n",
    "print(string3)"
   ]
  },
  {
   "cell_type": "code",
   "execution_count": 3,
   "id": "32211f00-1982-4ace-800b-42c500615853",
   "metadata": {},
   "outputs": [
    {
     "data": {
      "text/plain": [
       "'w'"
      ]
     },
     "execution_count": 3,
     "metadata": {},
     "output_type": "execute_result"
    }
   ],
   "source": [
    "# Access characters and substrings \n",
    "\n",
    "# Goal is to access a single character\n",
    "# index location is used to access each character\n",
    "# the default range of index location is 0 to inf\n",
    "\n",
    "string2[6]"
   ]
  },
  {
   "cell_type": "code",
   "execution_count": 4,
   "id": "f3e8d0ed-fc7c-4a64-b13b-facdcb39b377",
   "metadata": {},
   "outputs": [
    {
     "data": {
      "text/plain": [
       "'P'"
      ]
     },
     "execution_count": 4,
     "metadata": {},
     "output_type": "execute_result"
    }
   ],
   "source": [
    "string3[12]"
   ]
  },
  {
   "cell_type": "code",
   "execution_count": 5,
   "id": "9603f916-cd06-4af7-bea7-22f0b75bc411",
   "metadata": {},
   "outputs": [
    {
     "ename": "IndexError",
     "evalue": "string index out of range",
     "output_type": "error",
     "traceback": [
      "\u001b[0;31m---------------------------------------------------------------------------\u001b[0m",
      "\u001b[0;31mIndexError\u001b[0m                                Traceback (most recent call last)",
      "\u001b[0;32m/tmp/ipykernel_159/3434018829.py\u001b[0m in \u001b[0;36m<cell line: 1>\u001b[0;34m()\u001b[0m\n\u001b[0;32m----> 1\u001b[0;31m \u001b[0mstring2\u001b[0m\u001b[0;34m[\u001b[0m\u001b[0;36m20\u001b[0m\u001b[0;34m]\u001b[0m\u001b[0;34m\u001b[0m\u001b[0;34m\u001b[0m\u001b[0m\n\u001b[0m",
      "\u001b[0;31mIndexError\u001b[0m: string index out of range"
     ]
    }
   ],
   "source": [
    "string2[20]"
   ]
  },
  {
   "cell_type": "code",
   "execution_count": 6,
   "id": "a4998958-0a5a-4de4-b943-7fea6197ea92",
   "metadata": {},
   "outputs": [],
   "source": [
    "# Extract the subset of the string\n",
    "#\n",
    "#\n",
    "# Syntax:\n",
    "# \n",
    "#     var[startIndex:UpperBound]\n",
    "#\n",
    "# where upperBound = endIndex + 1\n"
   ]
  },
  {
   "cell_type": "code",
   "execution_count": 9,
   "id": "e69809de-6378-4579-8a53-dacd58565f68",
   "metadata": {},
   "outputs": [
    {
     "data": {
      "text/plain": [
       "'Welcome to Python Class. You are learning String Handling'"
      ]
     },
     "execution_count": 9,
     "metadata": {},
     "output_type": "execute_result"
    }
   ],
   "source": [
    "string4= \"Welcome to Python Class. You are learning String Handling\"\n",
    "string4"
   ]
  },
  {
   "cell_type": "code",
   "execution_count": 10,
   "id": "6abeec20-b5ec-4ab9-a810-adb604dedb36",
   "metadata": {},
   "outputs": [
    {
     "data": {
      "text/plain": [
       "'learning'"
      ]
     },
     "execution_count": 10,
     "metadata": {},
     "output_type": "execute_result"
    }
   ],
   "source": [
    "string4[33:41]"
   ]
  },
  {
   "cell_type": "code",
   "execution_count": 11,
   "id": "8875f691-c91f-46f5-86ec-3bbb81233f8b",
   "metadata": {},
   "outputs": [
    {
     "data": {
      "text/plain": [
       "'learning String Handling'"
      ]
     },
     "execution_count": 11,
     "metadata": {},
     "output_type": "execute_result"
    }
   ],
   "source": [
    "string4[33:100]"
   ]
  },
  {
   "cell_type": "code",
   "execution_count": 13,
   "id": "ef4b9583-5625-40b2-84af-de0aa82952d0",
   "metadata": {},
   "outputs": [
    {
     "data": {
      "text/plain": [
       "'l'"
      ]
     },
     "execution_count": 13,
     "metadata": {},
     "output_type": "execute_result"
    }
   ],
   "source": [
    "string4[]"
   ]
  },
  {
   "cell_type": "code",
   "execution_count": 14,
   "id": "7eee7003-c189-44ba-9e16-44a6bd6af1bd",
   "metadata": {},
   "outputs": [
    {
     "data": {
      "text/plain": [
       "'Welcome to the world of Python. You are learning string handling with Prashant Nair'"
      ]
     },
     "execution_count": 14,
     "metadata": {},
     "output_type": "execute_result"
    }
   ],
   "source": [
    "data = \"Welcome to the world of Python. You are learning string handling with Prashant Nair\"\n",
    "data"
   ]
  },
  {
   "cell_type": "code",
   "execution_count": 16,
   "id": "542cdecd-4596-40ab-b3e2-d4a98a61d6e7",
   "metadata": {},
   "outputs": [
    {
     "data": {
      "text/plain": [
       "'Welcome to the world'"
      ]
     },
     "execution_count": 16,
     "metadata": {},
     "output_type": "execute_result"
    }
   ],
   "source": [
    "data [0:20]"
   ]
  },
  {
   "cell_type": "code",
   "execution_count": 17,
   "id": "d1b77ffe-7853-4821-a374-9bae7dcc49bd",
   "metadata": {},
   "outputs": [
    {
     "name": "stdout",
     "output_type": "stream",
     "text": [
      "HelloWorld\n"
     ]
    }
   ],
   "source": [
    "#Basic String Operations\n",
    "\n",
    "# Concatenation Operation ------ Merging of two or more strings (+)\n",
    "#\n",
    "\n",
    "var1 = \"Hello\"\n",
    "var2 = \"World\"\n",
    "\n",
    "result = var1 + var2\n",
    "print(result)"
   ]
  },
  {
   "cell_type": "code",
   "execution_count": 18,
   "id": "b08889a2-bf70-4c74-961d-496f192bb025",
   "metadata": {},
   "outputs": [
    {
     "name": "stdout",
     "output_type": "stream",
     "text": [
      "HelloHelloHello\n"
     ]
    }
   ],
   "source": [
    "#Repetition ----- *\n",
    "\n",
    "print(var1 * 3)"
   ]
  },
  {
   "cell_type": "code",
   "execution_count": 19,
   "id": "c061c697-1f17-4a08-8b9f-fe2589db2e52",
   "metadata": {},
   "outputs": [
    {
     "name": "stdout",
     "output_type": "stream",
     "text": [
      "True\n"
     ]
    }
   ],
   "source": [
    "#Search Operation -- If the given element exists in the string or not\n",
    "\n",
    "data = \"Welcome to the world of Python. You are learning string handling with Prashant Nair\"\n",
    "\n",
    "#Goal is to check if the word Python exists in the string or not\n",
    "\n",
    "print(\"Python\"  in data)\n"
   ]
  },
  {
   "cell_type": "code",
   "execution_count": 20,
   "id": "59c4bbdc-6fe2-4947-9d1e-fa958fcbc752",
   "metadata": {},
   "outputs": [
    {
     "name": "stdout",
     "output_type": "stream",
     "text": [
      "False\n"
     ]
    }
   ],
   "source": [
    "print(\"python\"  in data)"
   ]
  },
  {
   "cell_type": "code",
   "execution_count": 23,
   "id": "0534d468-f182-404e-88ef-f69b27785f27",
   "metadata": {},
   "outputs": [
    {
     "name": "stdout",
     "output_type": "stream",
     "text": [
      "WELCOME TO THE WORLD OF PYTHON. YOU ARE LEARNING STRING HANDLING WITH PRASHANT NAIR\n",
      "welcome to the world of python. you are learning string handling with prashant nair\n"
     ]
    }
   ],
   "source": [
    "#Essential String Functions\n",
    "\n",
    "# 1. Changing Case\n",
    "\n",
    "data = \"Welcome to the world of Python. You are learning string handling with Prashant Nair\"\n",
    "\n",
    "print(data.upper())\n",
    "\n",
    "print(data.lower())"
   ]
  },
  {
   "cell_type": "code",
   "execution_count": 24,
   "id": "c9971b32-60e8-4741-bc4b-5fbda20150bb",
   "metadata": {},
   "outputs": [
    {
     "name": "stdout",
     "output_type": "stream",
     "text": [
      "True\n"
     ]
    }
   ],
   "source": [
    "#Modified search practice\n",
    "\n",
    "# Normalize the data\n",
    "# Search the token\n",
    "\n",
    "print(\"python\"  in data.lower())"
   ]
  },
  {
   "cell_type": "code",
   "execution_count": 25,
   "id": "8f4db493-4146-4017-9947-d57a3cf7749b",
   "metadata": {},
   "outputs": [
    {
     "data": {
      "text/plain": [
       "24"
      ]
     },
     "execution_count": 25,
     "metadata": {},
     "output_type": "execute_result"
    }
   ],
   "source": [
    "# Find and Replace\n",
    "#find() returns the startIndex location of the word\n",
    "\n",
    "data.find(\"Python\")"
   ]
  },
  {
   "cell_type": "code",
   "execution_count": 26,
   "id": "f3243009-0a43-4f76-87fc-75b588d80a94",
   "metadata": {},
   "outputs": [
    {
     "data": {
      "text/plain": [
       "'Welcome to the world of Java. You are learning string handling with Prashant Nair'"
      ]
     },
     "execution_count": 26,
     "metadata": {},
     "output_type": "execute_result"
    }
   ],
   "source": [
    "data.replace(\"Python\",\"Java\")"
   ]
  },
  {
   "cell_type": "code",
   "execution_count": 29,
   "id": "fda38323-03e8-4ca2-9490-0766fa0c4c43",
   "metadata": {},
   "outputs": [
    {
     "name": "stdout",
     "output_type": "stream",
     "text": [
      "False\n"
     ]
    }
   ],
   "source": [
    "data = \"Welcome to the world of Python. You are learning string handling with Prashant Nair\"\n",
    "print(\"python\" in data)"
   ]
  },
  {
   "cell_type": "code",
   "execution_count": 30,
   "id": "2a4c8aa4-bea0-4f29-b088-e1e9e26eb89a",
   "metadata": {},
   "outputs": [
    {
     "data": {
      "text/plain": [
       "83"
      ]
     },
     "execution_count": 30,
     "metadata": {},
     "output_type": "execute_result"
    }
   ],
   "source": [
    "#len --- Get the length of the string\n",
    "\n",
    "len(data)"
   ]
  },
  {
   "cell_type": "code",
   "execution_count": 32,
   "id": "64c3b29e-85f8-4fcf-a7bd-f659f34e328f",
   "metadata": {},
   "outputs": [
    {
     "data": {
      "text/plain": [
       "'Welcome to the world of Java. You are learning string handling in Python with Prashant Nair'"
      ]
     },
     "execution_count": 32,
     "metadata": {},
     "output_type": "execute_result"
    }
   ],
   "source": [
    "data = \"Welcome to the world of Python. You are learning string handling in Python with Prashant Nair\"\n",
    "\n",
    "data.replace(\"Python\",\"Java\",1)"
   ]
  },
  {
   "cell_type": "code",
   "execution_count": null,
   "id": "653320f0-f285-424b-9faf-309a0a58a322",
   "metadata": {},
   "outputs": [],
   "source": [
    "#https://www.w3schools.com/python/python_strings_methods.asp"
   ]
  }
 ],
 "metadata": {
  "kernelspec": {
   "display_name": "Python 3 [3.10]",
   "language": "python",
   "name": "python3"
  },
  "language_info": {
   "codemirror_mode": {
    "name": "ipython",
    "version": 3
   },
   "file_extension": ".py",
   "mimetype": "text/x-python",
   "name": "python",
   "nbconvert_exporter": "python",
   "pygments_lexer": "ipython3",
   "version": "3.10.2"
  }
 },
 "nbformat": 4,
 "nbformat_minor": 5
}
