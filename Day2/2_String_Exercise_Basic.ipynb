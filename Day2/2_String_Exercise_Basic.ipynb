{
  "cells": [
    {
      "cell_type": "code",
      "execution_count": null,
      "metadata": {
        "id": "wjHHaQVbqSZl"
      },
      "outputs": [],
      "source": [
        "#Question 1: Basic String Creation\n",
        "#Write a Python program to create a string with the text \"Learning Python\" and print it.\n",
        "\n"
      ]
    },
    {
      "cell_type": "code",
      "execution_count": null,
      "metadata": {
        "id": "ERcYiv4KqSZl"
      },
      "outputs": [],
      "source": []
    },
    {
      "cell_type": "code",
      "execution_count": null,
      "metadata": {
        "id": "zz1orUz1qSZm"
      },
      "outputs": [],
      "source": [
        "#Question 2: String Slicing\n",
        "#Given the string str = \"Python Programming\", extract and print the word \"Programming\" from it.\n",
        "\n"
      ]
    },
    {
      "cell_type": "code",
      "execution_count": null,
      "metadata": {
        "id": "zkviy2-_qSZm"
      },
      "outputs": [],
      "source": []
    },
    {
      "cell_type": "code",
      "execution_count": null,
      "metadata": {
        "id": "TxtMeROWqSZm"
      },
      "outputs": [],
      "source": [
        "#Question 3: String Methods\n",
        "#Given the string str = \"data science\", use a string method to convert it to uppercase and print the result.\n",
        "\n"
      ]
    },
    {
      "cell_type": "code",
      "execution_count": null,
      "metadata": {
        "id": "_yih4JrUqSZm"
      },
      "outputs": [],
      "source": []
    },
    {
      "cell_type": "code",
      "execution_count": null,
      "metadata": {
        "id": "UWRWYLruqSZm"
      },
      "outputs": [],
      "source": [
        "#Question 4: String Concatenation\n",
        "#Concatenate the following two strings str1 = \"Data\" and str2 = \"Analysis\" to form the complete string \"Data Analysis\" and print it.\n",
        "\n"
      ]
    },
    {
      "cell_type": "code",
      "execution_count": null,
      "metadata": {
        "id": "P_Etg5V6qSZm"
      },
      "outputs": [],
      "source": []
    },
    {
      "cell_type": "code",
      "execution_count": null,
      "metadata": {
        "id": "qCB84_LqqSZm"
      },
      "outputs": [],
      "source": [
        "#Question 5: Multiline String\n",
        "#Create a multiline string that represents the following poem and print it:\n",
        "\n",
        "\n",
        "#Roses are red,\n",
        "#Violets are blue,\n",
        "#Python is fun,\n",
        "#And so are you.\n",
        "\n"
      ]
    },
    {
      "cell_type": "code",
      "execution_count": null,
      "metadata": {
        "id": "staE1AwfqSZm"
      },
      "outputs": [],
      "source": []
    },
    {
      "cell_type": "code",
      "execution_count": null,
      "metadata": {
        "id": "iC27Brh1qSZm"
      },
      "outputs": [],
      "source": [
        "#Question 6: String Formatting\n",
        "#Use string formatting to inject variables name = \"Alice\" and age = 30 into the following sentence: \"My name is ___ and I am ___ years old.\" Print the result.\n",
        "\n"
      ]
    },
    {
      "cell_type": "code",
      "execution_count": null,
      "metadata": {
        "id": "C7tC3CqxqSZm"
      },
      "outputs": [],
      "source": []
    },
    {
      "cell_type": "code",
      "execution_count": null,
      "metadata": {
        "id": "ktqqiO_DqSZm"
      },
      "outputs": [],
      "source": [
        "#Question 7: Escape Sequences\n",
        "#Print the following string exactly as it is: He said, \"Python is awesome!\" Ensure you handle the double quotes correctly.\n",
        "\n"
      ]
    },
    {
      "cell_type": "code",
      "execution_count": null,
      "metadata": {
        "id": "EOV5ZDKGqSZn"
      },
      "outputs": [],
      "source": []
    },
    {
      "cell_type": "code",
      "execution_count": null,
      "metadata": {
        "id": "VbUSXYRCqSZn"
      },
      "outputs": [],
      "source": [
        "#Question 8: String Membership\n",
        "#Check if the word \"Python\" exists in the string str = \"I am learning Python programming.\" Print True if it exists, otherwise print False.\n",
        "\n"
      ]
    },
    {
      "cell_type": "code",
      "execution_count": null,
      "metadata": {
        "id": "bwGVXgA6qSZn"
      },
      "outputs": [],
      "source": []
    },
    {
      "cell_type": "code",
      "execution_count": null,
      "metadata": {
        "id": "LdVJT4NiqSZn"
      },
      "outputs": [],
      "source": [
        "#Question 9: Replace Substring\n",
        "#Given the string str = \"Hello, World!\", replace the substring \"World\" with \"Python\" and print the result.\n",
        "\n"
      ]
    },
    {
      "cell_type": "code",
      "execution_count": null,
      "metadata": {
        "id": "Ge0NBmEzqSZn"
      },
      "outputs": [],
      "source": []
    },
    {
      "cell_type": "code",
      "execution_count": null,
      "metadata": {
        "id": "-bZYKsGwqSZn"
      },
      "outputs": [],
      "source": [
        "#Question 10: String Split and Join\n",
        "#Given the string str = \"Python is fun\", split this string into a list of words and then join these words with a hyphen (-) as the separator. Print the resulting string."
      ]
    },
    {
      "cell_type": "code",
      "execution_count": null,
      "metadata": {
        "id": "AoJYZ4zpqSZn"
      },
      "outputs": [],
      "source": []
    },
    {
      "cell_type": "code",
      "execution_count": null,
      "metadata": {
        "id": "hKpVsmvIqSZn"
      },
      "outputs": [],
      "source": []
    }
  ],
  "metadata": {
    "kernelspec": {
      "display_name": "Python 3",
      "language": "python",
      "name": "python3"
    },
    "language_info": {
      "codemirror_mode": {
        "name": "ipython",
        "version": 3
      },
      "file_extension": ".py",
      "mimetype": "text/x-python",
      "name": "python",
      "nbconvert_exporter": "python",
      "pygments_lexer": "ipython3",
      "version": "3.7.6"
    },
    "colab": {
      "provenance": []
    }
  },
  "nbformat": 4,
  "nbformat_minor": 0
}