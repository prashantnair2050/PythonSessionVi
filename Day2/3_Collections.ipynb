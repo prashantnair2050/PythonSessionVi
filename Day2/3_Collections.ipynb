{
 "cells": [
  {
   "cell_type": "code",
   "execution_count": 1,
   "id": "edb5fb9e-deb2-4b28-955a-7bd704770819",
   "metadata": {},
   "outputs": [],
   "source": [
    "#Collections in Python --- allows to store multiple values in a single variable\n",
    "\n",
    "# 1. List\n",
    "# 2. Tuple\n",
    "# 3. Dictionary\n",
    "# 4. Set"
   ]
  },
  {
   "cell_type": "code",
   "execution_count": 2,
   "id": "69961ea4-561f-4c85-b3c9-f654152a7081",
   "metadata": {},
   "outputs": [],
   "source": [
    "# List ---- Mutable object that can store collection of data\n",
    "#\n",
    "# There are two types of list\n",
    "# 1. Homogenous List - All elements in the list object is of same datatype\n",
    "# 2. Heterogenous List - All elemenets in the list object may be of different datatype"
   ]
  },
  {
   "cell_type": "code",
   "execution_count": 3,
   "id": "3335e790-8d64-4c3c-86e0-bffb509a61a0",
   "metadata": {},
   "outputs": [
    {
     "name": "stdout",
     "output_type": "stream",
     "text": [
      "[1, 2, 3, 4, 5, 6, 7, 8, 9]\n"
     ]
    }
   ],
   "source": [
    "#Homogenmous list\n",
    "\n",
    "data = [1,2,3,4,5,6,7,8,9]\n",
    "print(data)"
   ]
  },
  {
   "cell_type": "code",
   "execution_count": 4,
   "id": "3fee67df-bd66-468f-8736-1a1f44d44b41",
   "metadata": {},
   "outputs": [
    {
     "data": {
      "text/plain": [
       "list"
      ]
     },
     "execution_count": 4,
     "metadata": {},
     "output_type": "execute_result"
    }
   ],
   "source": [
    "type(data)"
   ]
  },
  {
   "cell_type": "code",
   "execution_count": 5,
   "id": "f9d59ed5-257b-4779-9fac-1e5793b632fb",
   "metadata": {},
   "outputs": [
    {
     "name": "stdout",
     "output_type": "stream",
     "text": [
      "[1, 2, 'Prashant', 3.6, (2+5j)]\n"
     ]
    }
   ],
   "source": [
    "#Heterogenous list\n",
    "\n",
    "data2 = [1,2,\"Prashant\",3.6,2+5j]\n",
    "print(data2)"
   ]
  },
  {
   "cell_type": "code",
   "execution_count": 7,
   "id": "3dc61776-8d6f-4224-a21b-979c5ffac32d",
   "metadata": {},
   "outputs": [
    {
     "data": {
      "text/plain": [
       "'Prashant'"
      ]
     },
     "execution_count": 7,
     "metadata": {},
     "output_type": "execute_result"
    }
   ],
   "source": [
    "# Accessing elements in the list\n",
    "\n",
    "#Access a single element ----- use index location method\n",
    "\n",
    "data2[2]"
   ]
  },
  {
   "cell_type": "code",
   "execution_count": 10,
   "id": "5a05a128-e31b-417f-9a77-54eb1cd78372",
   "metadata": {},
   "outputs": [
    {
     "data": {
      "text/plain": [
       "[4, 5, 6, 7]"
      ]
     },
     "execution_count": 10,
     "metadata": {},
     "output_type": "execute_result"
    }
   ],
   "source": [
    "#Accessing series(continuity) of elements\n",
    "#\n",
    "# Use startIndex and upperBound\n",
    "\n",
    "data[3:7]"
   ]
  },
  {
   "cell_type": "code",
   "execution_count": 11,
   "id": "208c718d-fc18-4bfb-8182-6ac4611a289f",
   "metadata": {},
   "outputs": [
    {
     "data": {
      "text/plain": [
       "7"
      ]
     },
     "execution_count": 11,
     "metadata": {},
     "output_type": "execute_result"
    }
   ],
   "source": [
    "variable1 = [1.2, 'India','Mac', True, [10,11,12,13,14,15,16], 3+4j, [\"Mumbai\",\"Maharashtra\"]]\n",
    "\n",
    "#How many elements are present in the list variable1?\n",
    "\n",
    "len(variable1)"
   ]
  },
  {
   "cell_type": "code",
   "execution_count": 12,
   "id": "25e243c5-7c54-4f2f-b27d-1cc392d1b8ce",
   "metadata": {},
   "outputs": [
    {
     "data": {
      "text/plain": [
       "True"
      ]
     },
     "execution_count": 12,
     "metadata": {},
     "output_type": "execute_result"
    }
   ],
   "source": [
    "#Extract True\n",
    "\n",
    "variable1[3]"
   ]
  },
  {
   "cell_type": "code",
   "execution_count": 14,
   "id": "56b99054-5788-46b7-91a0-3858f7f22a4e",
   "metadata": {},
   "outputs": [
    {
     "data": {
      "text/plain": [
       "[11, 12, 13, 14]"
      ]
     },
     "execution_count": 14,
     "metadata": {},
     "output_type": "execute_result"
    }
   ],
   "source": [
    "# Extract 11,12,13,14\n",
    "\n",
    "variable1[4][1:5]"
   ]
  },
  {
   "cell_type": "code",
   "execution_count": 16,
   "id": "0c272771-8ee6-4770-b8b1-712c74393b86",
   "metadata": {},
   "outputs": [
    {
     "data": {
      "text/plain": [
       "'Mumbai'"
      ]
     },
     "execution_count": 16,
     "metadata": {},
     "output_type": "execute_result"
    }
   ],
   "source": [
    "# Extract Mumbai\n",
    "\n",
    "variable1[6][0]"
   ]
  },
  {
   "cell_type": "code",
   "execution_count": 19,
   "id": "4d902e68-2006-4ee7-a8ae-549789ea8d96",
   "metadata": {},
   "outputs": [
    {
     "data": {
      "text/plain": [
       "[1.2,\n",
       " 'India',\n",
       " 'Windows',\n",
       " True,\n",
       " [10, 11, 12, 13, 14, 15, 16],\n",
       " (3+4j),\n",
       " ['Mumbai', 'Maharashtra']]"
      ]
     },
     "execution_count": 19,
     "metadata": {},
     "output_type": "execute_result"
    }
   ],
   "source": [
    "# Replace Mac with Windows ---- Mutability\n",
    "\n",
    "variable1[2] = \"Windows\"\n",
    "variable1"
   ]
  },
  {
   "cell_type": "code",
   "execution_count": null,
   "id": "8aa4c94a-3a41-4cea-a861-6a278c599f16",
   "metadata": {},
   "outputs": [],
   "source": []
  }
 ],
 "metadata": {
  "kernelspec": {
   "display_name": "Python 3 [3.10]",
   "language": "python",
   "name": "python3"
  },
  "language_info": {
   "codemirror_mode": {
    "name": "ipython",
    "version": 3
   },
   "file_extension": ".py",
   "mimetype": "text/x-python",
   "name": "python",
   "nbconvert_exporter": "python",
   "pygments_lexer": "ipython3",
   "version": "3.10.2"
  }
 },
 "nbformat": 4,
 "nbformat_minor": 5
}
