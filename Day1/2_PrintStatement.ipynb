{
 "cells": [
  {
   "cell_type": "code",
   "execution_count": 1,
   "id": "2181fc5d-42d9-48f4-93ea-2fac112828b9",
   "metadata": {},
   "outputs": [],
   "source": [
    "num1 = 10"
   ]
  },
  {
   "cell_type": "code",
   "execution_count": 2,
   "id": "ab369557-d889-4f48-816c-b243991d6596",
   "metadata": {},
   "outputs": [
    {
     "data": {
      "text/plain": [
       "10"
      ]
     },
     "execution_count": 2,
     "metadata": {},
     "output_type": "execute_result"
    }
   ],
   "source": [
    "# Python Interactive Shell\n",
    "num1"
   ]
  },
  {
   "cell_type": "code",
   "execution_count": 3,
   "id": "a35fe35e-6118-408c-8094-9fc1ff455cbe",
   "metadata": {},
   "outputs": [],
   "source": [
    "#Print Statement"
   ]
  },
  {
   "cell_type": "code",
   "execution_count": 4,
   "id": "28c1bff1-3b01-4650-b34a-23d55bd3853f",
   "metadata": {},
   "outputs": [
    {
     "name": "stdout",
     "output_type": "stream",
     "text": [
      "10\n"
     ]
    }
   ],
   "source": [
    "#Print the value of a variable\n",
    "\n",
    "print(num1)"
   ]
  },
  {
   "cell_type": "code",
   "execution_count": 5,
   "id": "c2447454-de77-41a0-a8bd-a1c5008789b0",
   "metadata": {},
   "outputs": [
    {
     "name": "stdout",
     "output_type": "stream",
     "text": [
      "Welcome to PYthon Programming\n"
     ]
    }
   ],
   "source": [
    "#Printing the String \n",
    "\n",
    "print(\"Welcome to PYthon Programming\")"
   ]
  },
  {
   "cell_type": "code",
   "execution_count": 6,
   "id": "99f682e9-c75d-48d1-82c2-bc26a0e5c46d",
   "metadata": {},
   "outputs": [
    {
     "name": "stdout",
     "output_type": "stream",
     "text": [
      "Welcome Back\n"
     ]
    }
   ],
   "source": [
    "#Use Single Quote for String\n",
    "\n",
    "print('Welcome Back')"
   ]
  },
  {
   "cell_type": "code",
   "execution_count": 8,
   "id": "0e54cbc4-37cd-4b13-98ea-7ff92cc2b0c9",
   "metadata": {},
   "outputs": [
    {
     "name": "stdout",
     "output_type": "stream",
     "text": [
      "Dad's Den\n"
     ]
    }
   ],
   "source": [
    "#Dad's Den\n",
    "# usage of \\ character ---- escape character\n",
    "\n",
    "print('Dad\\'s Den')"
   ]
  },
  {
   "cell_type": "code",
   "execution_count": 9,
   "id": "c288853a-9911-43fd-ace6-31c164f03675",
   "metadata": {},
   "outputs": [
    {
     "name": "stdout",
     "output_type": "stream",
     "text": [
      "Dad's Den\n"
     ]
    }
   ],
   "source": [
    "print(\"Dad's Den\")"
   ]
  },
  {
   "cell_type": "code",
   "execution_count": 10,
   "id": "2a0ddea1-1970-496d-b84d-4c36020a2b4b",
   "metadata": {},
   "outputs": [
    {
     "name": "stdout",
     "output_type": "stream",
     "text": [
      "\n",
      "Welcome to Python\n",
      "==================================\n",
      "By Prashant Nair\n",
      "===================================\n",
      "\n",
      "a. Datatypes\n",
      "b. Print Statement\n",
      "\n"
     ]
    }
   ],
   "source": [
    "#Triple Quotes in print statement ----- Multiline printing\n",
    "\n",
    "print(\"\"\"\n",
    "Welcome to Python\n",
    "==================================\n",
    "By Prashant Nair\n",
    "===================================\n",
    "\n",
    "a. Datatypes\n",
    "b. Print Statement\n",
    "\"\"\")"
   ]
  },
  {
   "cell_type": "code",
   "execution_count": 12,
   "id": "e1b5e007-582b-4f40-b075-4eec367c36f8",
   "metadata": {},
   "outputs": [
    {
     "name": "stdout",
     "output_type": "stream",
     "text": [
      "\n",
      "==================================\n",
      "       Welcome to Python\n",
      "==================================\n",
      "        By Prashant Nair\n",
      "==================================\n",
      "\n",
      "a. Datatypes\n",
      "b. Print Statement\n",
      "\n",
      "==================================\n",
      "\n"
     ]
    }
   ],
   "source": [
    "print(\"\"\"\n",
    "==================================\n",
    "       Welcome to Python\n",
    "==================================\n",
    "        By Prashant Nair\n",
    "==================================\n",
    "\n",
    "a. Datatypes\n",
    "b. Print Statement\n",
    "\n",
    "==================================\n",
    "\"\"\")"
   ]
  },
  {
   "cell_type": "code",
   "execution_count": 13,
   "id": "0ebdc0bb-0da8-4dfa-8b17-ac0775ad8fa7",
   "metadata": {},
   "outputs": [
    {
     "name": "stdout",
     "output_type": "stream",
     "text": [
      "Given num1 variable contains  10\n"
     ]
    }
   ],
   "source": [
    "# Given num1 variable contains 10\n",
    "\n",
    "num1 = 10\n",
    "\n",
    "print(\"Given num1 variable contains \",num1)"
   ]
  },
  {
   "cell_type": "code",
   "execution_count": 14,
   "id": "69ddb98c-7ce2-4728-8004-8c5555de9bdb",
   "metadata": {},
   "outputs": [
    {
     "name": "stdout",
     "output_type": "stream",
     "text": [
      "Given num1 variable contains 10\n"
     ]
    }
   ],
   "source": [
    "print(\"Given num1 variable contains {}\".format(num1))"
   ]
  },
  {
   "cell_type": "code",
   "execution_count": 15,
   "id": "af85e4ad-2f9a-4454-bc1a-5fc95d9dccb7",
   "metadata": {},
   "outputs": [
    {
     "name": "stdout",
     "output_type": "stream",
     "text": [
      "Given num1 variable has value 10 , num2 variable has value 20 , num3 variable has value 30\n"
     ]
    }
   ],
   "source": [
    "num1 = 10\n",
    "num2 = 20\n",
    "num3 = 30\n",
    "\n",
    "print(\"Given num1 variable has value {} , num2 variable has value {} , num3 variable has value {}\".format(num1,num2,num3))"
   ]
  },
  {
   "cell_type": "code",
   "execution_count": 16,
   "id": "4888c035-e9df-4962-a5ee-c5eaac9a7671",
   "metadata": {},
   "outputs": [
    {
     "name": "stdout",
     "output_type": "stream",
     "text": [
      "Given num1 variable has value 10 , num2 variable has value 20 , num3 variable has value 30\n"
     ]
    }
   ],
   "source": [
    "# F-strings\n",
    "# Example\n",
    "\n",
    "num1 = 10\n",
    "num2 = 20\n",
    "num3 = 30\n",
    "\n",
    "print(f\"Given num1 variable has value {num1} , num2 variable has value {num2} , num3 variable has value {num3}\")"
   ]
  },
  {
   "cell_type": "code",
   "execution_count": 18,
   "id": "32a921b2-6dbd-4fdb-a39e-eade156c5783",
   "metadata": {},
   "outputs": [
    {
     "name": "stdout",
     "output_type": "stream",
     "text": [
      "Given num1 variable has value 10 , num2 variable has value 20.500000 , num3 variable has value Prashant\n"
     ]
    }
   ],
   "source": [
    "#Special characters for each datatype\n",
    "# %d --- integer\n",
    "# %s --- string\n",
    "# %e --- exponential\n",
    "# %f --- float\n",
    "\n",
    "num1 = 10\n",
    "num2 = 20.5\n",
    "num3 = \"Prashant\"\n",
    "\n",
    "print(\"Given num1 variable has value %d , num2 variable has value %f , num3 variable has value %s\" %(num1,num2,num3))\n",
    " "
   ]
  },
  {
   "cell_type": "code",
   "execution_count": null,
   "id": "113b3890-642f-497c-a02f-a8c8d7cc3909",
   "metadata": {},
   "outputs": [],
   "source": []
  }
 ],
 "metadata": {
  "kernelspec": {
   "display_name": "Python 3 [3.10]",
   "language": "python",
   "name": "python3"
  },
  "language_info": {
   "codemirror_mode": {
    "name": "ipython",
    "version": 3
   },
   "file_extension": ".py",
   "mimetype": "text/x-python",
   "name": "python",
   "nbconvert_exporter": "python",
   "pygments_lexer": "ipython3",
   "version": "3.10.2"
  }
 },
 "nbformat": 4,
 "nbformat_minor": 5
}
