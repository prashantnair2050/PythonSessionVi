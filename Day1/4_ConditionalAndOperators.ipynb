{
 "cells": [
  {
   "cell_type": "code",
   "execution_count": 1,
   "id": "a76f0ed6-6a5b-4712-bf92-b65e3394f0cf",
   "metadata": {},
   "outputs": [],
   "source": [
    "#Operators\n",
    "#======================================================================================\n",
    "#\n",
    "# 1. Arithmetic Operator\n",
    "#  + addition\n",
    "#  - subtraction\n",
    "#  * multiplication\n",
    "#  / division\n",
    "#  % remainder (modulus)\n",
    "# ** raise to (Indices)\n",
    "\n",
    "#\n",
    "# 2. Logical Operators\n",
    "#  and\n",
    "#  or\n",
    "#  not\n",
    "\n",
    "# 3. Comparison Operators\n",
    "#\n",
    "#   > Greater than\n",
    "#   < Less than\n",
    "#   >= Greater than equal to\n",
    "#   <= Less than equal to\n",
    "#   !  Not\n",
    "#   != Not equal to\n",
    "#   == equal to\n",
    "\n"
   ]
  },
  {
   "cell_type": "code",
   "execution_count": 2,
   "id": "7f51e64f-8954-413c-92d4-7c0861d4707d",
   "metadata": {},
   "outputs": [
    {
     "data": {
      "text/plain": [
       "5"
      ]
     },
     "execution_count": 2,
     "metadata": {},
     "output_type": "execute_result"
    }
   ],
   "source": [
    "2 + 3"
   ]
  },
  {
   "cell_type": "code",
   "execution_count": 3,
   "id": "6ac53643-0a60-4d8e-8807-573969c91084",
   "metadata": {},
   "outputs": [
    {
     "data": {
      "text/plain": [
       "6"
      ]
     },
     "execution_count": 3,
     "metadata": {},
     "output_type": "execute_result"
    }
   ],
   "source": [
    "2 * 3"
   ]
  },
  {
   "cell_type": "code",
   "execution_count": 4,
   "id": "f9e5945a-b499-467e-8fac-ba36e4d3cecf",
   "metadata": {},
   "outputs": [
    {
     "data": {
      "text/plain": [
       "1"
      ]
     },
     "execution_count": 4,
     "metadata": {},
     "output_type": "execute_result"
    }
   ],
   "source": [
    "3 - 2"
   ]
  },
  {
   "cell_type": "code",
   "execution_count": 5,
   "id": "febbbefd-e580-41ed-96fb-55ec2fce70bc",
   "metadata": {},
   "outputs": [
    {
     "data": {
      "text/plain": [
       "2.0"
      ]
     },
     "execution_count": 5,
     "metadata": {},
     "output_type": "execute_result"
    }
   ],
   "source": [
    "4 / 2"
   ]
  },
  {
   "cell_type": "code",
   "execution_count": 6,
   "id": "86a366c8-9c99-4bfd-adff-0145f17edaa9",
   "metadata": {},
   "outputs": [
    {
     "data": {
      "text/plain": [
       "2.5"
      ]
     },
     "execution_count": 6,
     "metadata": {},
     "output_type": "execute_result"
    }
   ],
   "source": [
    "5 / 2"
   ]
  },
  {
   "cell_type": "code",
   "execution_count": 7,
   "id": "3054ff7f-8c4f-4c16-93fe-71ebd7e085c9",
   "metadata": {},
   "outputs": [
    {
     "data": {
      "text/plain": [
       "1"
      ]
     },
     "execution_count": 7,
     "metadata": {},
     "output_type": "execute_result"
    }
   ],
   "source": [
    "5 % 2"
   ]
  },
  {
   "cell_type": "code",
   "execution_count": 8,
   "id": "282e671f-98ce-4744-935e-78d10d8a6cb1",
   "metadata": {},
   "outputs": [
    {
     "data": {
      "text/plain": [
       "9"
      ]
     },
     "execution_count": 8,
     "metadata": {},
     "output_type": "execute_result"
    }
   ],
   "source": [
    "3 ** 2"
   ]
  },
  {
   "cell_type": "code",
   "execution_count": 9,
   "id": "37c85b53-e038-4e80-9950-52621d88d165",
   "metadata": {},
   "outputs": [],
   "source": [
    "#Conditional Statement\n",
    "#\n",
    "# a. if statement\n",
    "# b. if..else statement\n",
    "# c. elif ladder"
   ]
  },
  {
   "cell_type": "code",
   "execution_count": 15,
   "id": "e6ffa231-c66a-4ef3-926c-1f38f2e16bad",
   "metadata": {},
   "outputs": [
    {
     "name": "stdin",
     "output_type": "stream",
     "text": [
      "Enter number:  89\n"
     ]
    },
    {
     "name": "stdout",
     "output_type": "stream",
     "text": [
      "Greater than 10\n",
      "Entered number is 89\n",
      "Program Executed Successfully\n"
     ]
    }
   ],
   "source": [
    "# if statement\n",
    "#\n",
    "# In this expression we can supply one condition only. If the condition is met, it will execute the statement. Else will do nothing\n",
    "#\n",
    "# if expression:\n",
    "#       statement/logic\n",
    "\n",
    "\n",
    "num = int(input(\"Enter number: \"))\n",
    "\n",
    "if num > 10:\n",
    "    print(\"Greater than 10\")\n",
    "    print(f\"Entered number is {num}\")\n",
    "    \n",
    "print(\"Program Executed Successfully\")"
   ]
  },
  {
   "cell_type": "code",
   "execution_count": 17,
   "id": "31c411c1-3102-41fe-96a0-d590d93ce481",
   "metadata": {},
   "outputs": [
    {
     "name": "stdin",
     "output_type": "stream",
     "text": [
      "Enter number:  11\n"
     ]
    },
    {
     "name": "stdout",
     "output_type": "stream",
     "text": [
      "Greater than 10\n",
      "Entered number is 11\n"
     ]
    }
   ],
   "source": [
    "# if..else statement\n",
    "#\n",
    "# In this expression we can supply binary condition\n",
    "#\n",
    "# Syntax:\n",
    "#\n",
    "# if expression1:\n",
    "#       action1\n",
    "# else:\n",
    "#       action2\n",
    "\n",
    "\n",
    "num = int(input(\"Enter number: \"))\n",
    "\n",
    "if num > 10:\n",
    "    print(\"Greater than 10\")\n",
    "    print(f\"Entered number is {num}\")\n",
    "    \n",
    "else:\n",
    "    print(\"Less than or equal to 10\")\n",
    "    print(f\"Given number is {num}\")\n",
    "    \n"
   ]
  },
  {
   "cell_type": "code",
   "execution_count": 21,
   "id": "23c3f998-c205-4ec6-acb0-c091349206d1",
   "metadata": {},
   "outputs": [
    {
     "name": "stdin",
     "output_type": "stream",
     "text": [
      "Enter number:  10\n"
     ]
    },
    {
     "name": "stdout",
     "output_type": "stream",
     "text": [
      "Equal to 10\n"
     ]
    }
   ],
   "source": [
    "# elif ladder\n",
    "\n",
    "# In this expression you can supply multiple conditions\n",
    "\n",
    "num = int(input(\"Enter number: \"))\n",
    "\n",
    "if num > 10:\n",
    "    print(\"Greater than 10\")\n",
    "    print(f\"Entered number is {num}\")\n",
    "    \n",
    "elif num ==10:\n",
    "    print(\"Equal to 10\")\n",
    "    \n",
    "else:\n",
    "    print(\"Less than or equal to 10\")\n",
    "    print(f\"Given number is {num}\")\n",
    "    "
   ]
  },
  {
   "cell_type": "code",
   "execution_count": 24,
   "id": "ab08edcf-6175-49e3-a23f-d3d97303ee8e",
   "metadata": {},
   "outputs": [
    {
     "name": "stdin",
     "output_type": "stream",
     "text": [
      "Enter number:  3\n"
     ]
    },
    {
     "name": "stdout",
     "output_type": "stream",
     "text": [
      "Three\n"
     ]
    }
   ],
   "source": [
    "num = int(input(\"Enter number: \"))\n",
    "\n",
    "if num == 1:\n",
    "    print(\"One\")\n",
    "elif num == 2:\n",
    "    print(\"Two\")\n",
    "elif num==3:\n",
    "    print(\"Three\")\n",
    "elif num==4:\n",
    "    print(\"Four\")\n",
    "else:\n",
    "    print(\"I dont know\")"
   ]
  },
  {
   "cell_type": "code",
   "execution_count": 26,
   "id": "c40ddae6-1978-411a-91a1-9a51bd87d356",
   "metadata": {},
   "outputs": [
    {
     "name": "stdin",
     "output_type": "stream",
     "text": [
      "Enter number:  6\n"
     ]
    }
   ],
   "source": [
    "num = int(input(\"Enter number: \"))\n",
    "\n",
    "if num == 1:\n",
    "    print(\"One\")\n",
    "elif num == 2:\n",
    "    print(\"Two\")\n",
    "elif num==3:\n",
    "    print(\"Three\")\n",
    "elif num==4:\n",
    "    print(\"Four\")\n"
   ]
  },
  {
   "cell_type": "code",
   "execution_count": 28,
   "id": "2b03155a-da70-44e5-bb70-23d492bd9994",
   "metadata": {},
   "outputs": [
    {
     "name": "stdin",
     "output_type": "stream",
     "text": [
      "Please insert a number:  5\n"
     ]
    },
    {
     "name": "stdout",
     "output_type": "stream",
     "text": [
      "Good\n"
     ]
    }
   ],
   "source": [
    "# Accept the number from the user and display the following based on the given conditions\n",
    "# Number between 1 to 10 ------> Good\n",
    "# Number between 11 to 20 -----> Better\n",
    "# Number between 21 to 30 -----> Best\n",
    "# Number after 30 -------------> Exceeded Expectation\n",
    "\n",
    "number=int(input(\"Please insert a number: \"))\n",
    "if number<=10 and number>=1:\n",
    "    print('Good')\n",
    "elif number<=20 and number>=11:\n",
    "    print('Better')\n",
    "elif number<=30 and number>=21:\n",
    "    print('Best')\n",
    "elif number>30:\n",
    "    print('Exceeded expectation')"
   ]
  },
  {
   "cell_type": "code",
   "execution_count": 1,
   "id": "d02f734e-4b0d-492f-8c69-2d3f1f258d2a",
   "metadata": {},
   "outputs": [
    {
     "name": "stdin",
     "output_type": "stream",
     "text": [
      "Number is:  2\n"
     ]
    },
    {
     "name": "stdout",
     "output_type": "stream",
     "text": [
      "Number is even\n"
     ]
    }
   ],
   "source": [
    "#Accept a number from the user and check if the given number is an even number or odd number\n",
    "\n",
    "n=int(input(\"Number is: \"))\n",
    "if n%2:\n",
    "    print(\"Number is odd\")\n",
    "else:\n",
    "    print(\"Number is even\")\n",
    "\n"
   ]
  },
  {
   "cell_type": "code",
   "execution_count": 2,
   "id": "73f784f7-ea04-4bd2-80d0-4c4924fa7e60",
   "metadata": {},
   "outputs": [
    {
     "name": "stdin",
     "output_type": "stream",
     "text": [
      "Enter Salary: 45000\n",
      "Enter Credit Score (0-800):  790\n",
      "Are you a student (Y/N):  N\n"
     ]
    },
    {
     "name": "stdout",
     "output_type": "stream",
     "text": [
      "Accepted\n"
     ]
    }
   ],
   "source": [
    "#Question: Loan App Example\n",
    "\n",
    "# Approve the loan of the customer if the sal is greater than 8000 and the credit score is greater than 700\n",
    "# The applicant must not be a student\n",
    "# if the applicant is a student reject the loan irrespective of the sal and credit condition\n",
    "\n",
    "#User input\n",
    "\n",
    "# Enter Salary:\n",
    "# Enter Credit Score (0-800):\n",
    "# Are you a student (Y/N):\n",
    "\n",
    "\n",
    "salary = int(input('Enter Salary:'))\n",
    "credit_score = int(input(\"Enter Credit Score (0-800): \"))\n",
    "student = input(\"Are you a student (Y/N): \").lower()\n",
    "if student == 'y':\n",
    "  print('rejected')\n",
    "elif salary <=8000 and credit_score <= 700:\n",
    "  print('rejected')\n",
    "else:\n",
    "  print(\"Accepted\")"
   ]
  },
  {
   "cell_type": "code",
   "execution_count": null,
   "id": "135428c7-95c3-44d9-899b-7e5e2e2470be",
   "metadata": {},
   "outputs": [],
   "source": []
  }
 ],
 "metadata": {
  "kernelspec": {
   "display_name": "Python 3 [3.10]",
   "language": "python",
   "name": "python3"
  },
  "language_info": {
   "codemirror_mode": {
    "name": "ipython",
    "version": 3
   },
   "file_extension": ".py",
   "mimetype": "text/x-python",
   "name": "python",
   "nbconvert_exporter": "python",
   "pygments_lexer": "ipython3",
   "version": "3.10.2"
  }
 },
 "nbformat": 4,
 "nbformat_minor": 5
}
