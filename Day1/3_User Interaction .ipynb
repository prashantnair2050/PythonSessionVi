{
 "cells": [
  {
   "cell_type": "code",
   "execution_count": 1,
   "id": "49c08724-fb67-43c1-ae2e-f474bcf5e963",
   "metadata": {},
   "outputs": [],
   "source": [
    "# User Interaction Demo\n",
    "# Accept input from the user ----------------- input()\n",
    "# input() accepts the data from the user in the form of STRING"
   ]
  },
  {
   "cell_type": "code",
   "execution_count": 2,
   "id": "be1cd1a5-c830-42ba-8fb2-528188cca50d",
   "metadata": {},
   "outputs": [
    {
     "name": "stdin",
     "output_type": "stream",
     "text": [
      "Enter your name:  Prashant\n"
     ]
    },
    {
     "name": "stdout",
     "output_type": "stream",
     "text": [
      "Welcome Prashant to the world of Python\n"
     ]
    }
   ],
   "source": [
    "#Simple Greeting Example\n",
    "\n",
    "name = input(\"Enter your name: \")\n",
    "print(f\"Welcome {name} to the world of Python\")"
   ]
  },
  {
   "cell_type": "code",
   "execution_count": 3,
   "id": "3ebf51c4-daf3-4e0b-802b-334980390abd",
   "metadata": {},
   "outputs": [
    {
     "data": {
      "text/plain": [
       "str"
      ]
     },
     "execution_count": 3,
     "metadata": {},
     "output_type": "execute_result"
    }
   ],
   "source": [
    "type(name)"
   ]
  },
  {
   "cell_type": "code",
   "execution_count": 5,
   "id": "152413dc-769c-40d2-9a3f-4f24f1469725",
   "metadata": {},
   "outputs": [],
   "source": [
    "#Typecasting --- Typecasting is all about converting the datatype of the variable from one form to another\n",
    "#                considering the value matches the datatype"
   ]
  },
  {
   "cell_type": "code",
   "execution_count": 6,
   "id": "c7473dab-121f-44aa-85c6-0190fb63972c",
   "metadata": {},
   "outputs": [
    {
     "name": "stdin",
     "output_type": "stream",
     "text": [
      "Enter first number:  5\n",
      "Enter Second number:  5\n"
     ]
    },
    {
     "name": "stdout",
     "output_type": "stream",
     "text": [
      "The addition of 5 and 5 is 10\n"
     ]
    }
   ],
   "source": [
    "#Simple Addition program\n",
    "\n",
    "num1 = int(input(\"Enter first number: \"))\n",
    "num2 = int(input(\"Enter Second number: \"))\n",
    "\n",
    "result = num1 + num2\n",
    "\n",
    "print(f\"The addition of {num1} and {num2} is {result}\")"
   ]
  },
  {
   "cell_type": "code",
   "execution_count": 7,
   "id": "9a9090ea-d29f-4f7f-a1a0-af875515441b",
   "metadata": {},
   "outputs": [
    {
     "name": "stdin",
     "output_type": "stream",
     "text": [
      "Enter first number:  6\n",
      "Enter Second number:  4\n"
     ]
    },
    {
     "name": "stdout",
     "output_type": "stream",
     "text": [
      "The addition of 6 and 4 is 10\n"
     ]
    }
   ],
   "source": [
    "#Simple Addition program\n",
    "\n",
    "num1 = input(\"Enter first number: \")\n",
    "num2 = input(\"Enter Second number: \")\n",
    "\n",
    "result = int(num1) + int(num2)\n",
    "\n",
    "print(f\"The addition of {num1} and {num2} is {result}\")"
   ]
  },
  {
   "cell_type": "code",
   "execution_count": null,
   "id": "3fa1bfeb-81ac-4006-9132-5176cfe826bd",
   "metadata": {},
   "outputs": [],
   "source": []
  }
 ],
 "metadata": {
  "kernelspec": {
   "display_name": "Python 3 [3.10]",
   "language": "python",
   "name": "python3"
  },
  "language_info": {
   "codemirror_mode": {
    "name": "ipython",
    "version": 3
   },
   "file_extension": ".py",
   "mimetype": "text/x-python",
   "name": "python",
   "nbconvert_exporter": "python",
   "pygments_lexer": "ipython3",
   "version": "3.10.2"
  }
 },
 "nbformat": 4,
 "nbformat_minor": 5
}
