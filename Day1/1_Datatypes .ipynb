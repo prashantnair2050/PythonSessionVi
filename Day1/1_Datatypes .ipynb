{
 "cells": [
  {
   "cell_type": "code",
   "execution_count": 6,
   "id": "587a1e6a-8ad8-4876-b50d-d769a9ff9ddc",
   "metadata": {},
   "outputs": [],
   "source": [
    "# Datatypes ---- It defines the type of the data a VARIABLE can HOLD/MAINTAIN \n",
    "#\n",
    "# Datatypes ---- 1. Primitive Datatype\n",
    "#                2. Collection Datatype\n",
    "#\n",
    "#                                            Primitive Types\n",
    "#                                                  |\n",
    "#   ------------------------------------------------------------------------------------------------------\n",
    "#   |                                              |                                                     |\n",
    "# Numbers                                      String                                                Boolean\n",
    "#   |\n",
    "#   -----------------------------\n",
    "#   |            |              |\n",
    "#  Integers    Decimals    Complex\n",
    "#  (int)       (float)"
   ]
  },
  {
   "cell_type": "code",
   "execution_count": 8,
   "id": "2b824d2c-f2e4-435f-a551-07d5730f2c2b",
   "metadata": {},
   "outputs": [],
   "source": [
    "# comments in python \n",
    "#\n",
    "# Two types of comments\n",
    "# 1. Single line comment  ----------  #\n",
    "# 2. Multi-line comment   ----------  '''\n",
    "#                                     '''"
   ]
  },
  {
   "cell_type": "code",
   "execution_count": 9,
   "id": "73d28c22-203c-4210-bd15-6ef8e58cfc5a",
   "metadata": {},
   "outputs": [
    {
     "data": {
      "text/plain": [
       "'\\nWelcome to Python\\nThis is Prashant Nair, Your instructor\\nFor the PYthon Training\\n'"
      ]
     },
     "execution_count": 9,
     "metadata": {},
     "output_type": "execute_result"
    }
   ],
   "source": [
    "'''\n",
    "Welcome to Python\n",
    "This is Prashant Nair, Your instructor\n",
    "For the PYthon Training\n",
    "'''"
   ]
  },
  {
   "cell_type": "code",
   "execution_count": 10,
   "id": "0aea1b2b-7aa5-4202-91ca-65292ba528d1",
   "metadata": {},
   "outputs": [],
   "source": [
    "# To execute a cell\n",
    "#  1. click on play button\n",
    "# or\n",
    "# Use shortcut key (Shift+Enter)"
   ]
  },
  {
   "cell_type": "code",
   "execution_count": 12,
   "id": "4295fb39-bc51-4200-b02a-6cf3fa3cad63",
   "metadata": {},
   "outputs": [],
   "source": [
    "\n",
    "#Variable\n",
    "\n",
    "#Python is a type inferred language (Type Inference)\n",
    "# Type Inference means the system will automatically identify and assign datatype to a variable\n",
    "# based on the data assigned to the variable.\n",
    "\n",
    "num1 = 10\n",
    "\n",
    "\n"
   ]
  },
  {
   "cell_type": "code",
   "execution_count": 13,
   "id": "e1dda9b5-c10f-4882-b8d9-adf1917dc5e3",
   "metadata": {},
   "outputs": [
    {
     "data": {
      "text/plain": [
       "int"
      ]
     },
     "execution_count": 13,
     "metadata": {},
     "output_type": "execute_result"
    }
   ],
   "source": [
    "#Can you tell me the datatype of num1?\n",
    "#\n",
    "# type() ---- used to get the datatype of the variable\n",
    "\n",
    "type(num1)"
   ]
  },
  {
   "cell_type": "code",
   "execution_count": 14,
   "id": "b6be61cd-8ff8-4e62-862d-137d892233b1",
   "metadata": {},
   "outputs": [],
   "source": [
    "demo = \"Welcome to Python\""
   ]
  },
  {
   "cell_type": "code",
   "execution_count": 15,
   "id": "b7306b77-73b1-4c80-8e4e-98f2b00a8856",
   "metadata": {},
   "outputs": [
    {
     "data": {
      "text/plain": [
       "str"
      ]
     },
     "execution_count": 15,
     "metadata": {},
     "output_type": "execute_result"
    }
   ],
   "source": [
    "type(demo)"
   ]
  },
  {
   "cell_type": "code",
   "execution_count": 16,
   "id": "2d50011e-f473-439b-b8d3-713720adf3eb",
   "metadata": {},
   "outputs": [
    {
     "data": {
      "text/plain": [
       "'Welcome to Python'"
      ]
     },
     "execution_count": 16,
     "metadata": {},
     "output_type": "execute_result"
    }
   ],
   "source": [
    "demo"
   ]
  },
  {
   "cell_type": "code",
   "execution_count": 17,
   "id": "83f2db74-45ef-4620-9806-eadbd88d7195",
   "metadata": {},
   "outputs": [
    {
     "data": {
      "text/plain": [
       "float"
      ]
     },
     "execution_count": 17,
     "metadata": {},
     "output_type": "execute_result"
    }
   ],
   "source": [
    "num2 = 2.2\n",
    "type(num2)"
   ]
  },
  {
   "cell_type": "code",
   "execution_count": 18,
   "id": "81c621fb-b471-485a-81c8-da90326e1244",
   "metadata": {},
   "outputs": [
    {
     "data": {
      "text/plain": [
       "2.2"
      ]
     },
     "execution_count": 18,
     "metadata": {},
     "output_type": "execute_result"
    }
   ],
   "source": [
    "num2"
   ]
  },
  {
   "cell_type": "code",
   "execution_count": 19,
   "id": "03b54e0f-3418-4d96-891b-848deb93b871",
   "metadata": {},
   "outputs": [
    {
     "data": {
      "text/plain": [
       "complex"
      ]
     },
     "execution_count": 19,
     "metadata": {},
     "output_type": "execute_result"
    }
   ],
   "source": [
    "num3 = 3+4j\n",
    "type(num3)"
   ]
  },
  {
   "cell_type": "code",
   "execution_count": 20,
   "id": "aec14783-edaa-44fe-9df1-309e5940f221",
   "metadata": {},
   "outputs": [
    {
     "data": {
      "text/plain": [
       "(3+4j)"
      ]
     },
     "execution_count": 20,
     "metadata": {},
     "output_type": "execute_result"
    }
   ],
   "source": [
    "num3"
   ]
  },
  {
   "cell_type": "code",
   "execution_count": 21,
   "id": "2459aadf-274e-4559-bdd4-297514cb9b9a",
   "metadata": {},
   "outputs": [
    {
     "data": {
      "text/plain": [
       "bool"
      ]
     },
     "execution_count": 21,
     "metadata": {},
     "output_type": "execute_result"
    }
   ],
   "source": [
    "num5 = True \n",
    "type(num5)"
   ]
  },
  {
   "cell_type": "code",
   "execution_count": 22,
   "id": "7071f38e-4f96-4acf-b647-a100991792cf",
   "metadata": {},
   "outputs": [
    {
     "data": {
      "text/plain": [
       "bool"
      ]
     },
     "execution_count": 22,
     "metadata": {},
     "output_type": "execute_result"
    }
   ],
   "source": [
    "num6 = False \n",
    "type(num6)"
   ]
  },
  {
   "cell_type": "code",
   "execution_count": null,
   "id": "b7d0ef5b-4a0c-490b-b06e-6a2988e0acf6",
   "metadata": {},
   "outputs": [],
   "source": []
  }
 ],
 "metadata": {
  "kernelspec": {
   "display_name": "Python 3 [3.10]",
   "language": "python",
   "name": "python3"
  },
  "language_info": {
   "codemirror_mode": {
    "name": "ipython",
    "version": 3
   },
   "file_extension": ".py",
   "mimetype": "text/x-python",
   "name": "python",
   "nbconvert_exporter": "python",
   "pygments_lexer": "ipython3",
   "version": "3.10.2"
  }
 },
 "nbformat": 4,
 "nbformat_minor": 5
}
